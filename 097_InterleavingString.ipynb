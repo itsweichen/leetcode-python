{
 "cells": [
  {
   "cell_type": "markdown",
   "metadata": {},
   "source": [
    "### 97. Interleaving String"
   ]
  },
  {
   "cell_type": "markdown",
   "metadata": {},
   "source": [
    "backtracking的思路："
   ]
  },
  {
   "cell_type": "code",
   "execution_count": 4,
   "metadata": {
    "collapsed": false
   },
   "outputs": [],
   "source": [
    "class Solution(object):\n",
    "    def isInterleave(self, s1, s2, s3):\n",
    "        \"\"\"\n",
    "        :type s1: str\n",
    "        :type s2: str\n",
    "        :type s3: str\n",
    "        :rtype: bool\n",
    "        \"\"\"\n",
    "        \n",
    "        n1, n2, n3 = len(s1), len(s2), len(s3)\n",
    "        \n",
    "        if n3 == 0:\n",
    "            if n1 == 0 and n2 == 0:\n",
    "                return True\n",
    "            else:\n",
    "                return False\n",
    "        \n",
    "        if n3 != n1 + n2:\n",
    "            return False\n",
    "\n",
    "        s = (s1, s2, s3)\n",
    "        p = (0, 0, 0)\n",
    "        n = (n1, n2, n3)\n",
    "        \n",
    "        return self.solve(s, p, n) #1 忘了return\n",
    "        \n",
    "    def solve(self, s, p, n):\n",
    "        s1, s2, s3 = s\n",
    "        p1, p2, p3 = p\n",
    "        n1, n2, n3 = n\n",
    "        \n",
    "        if p1==n1 and p2==n2 and p3==n3:\n",
    "            return True\n",
    "        \n",
    "        while p3 < n3:\n",
    "            next = s3[p3]\n",
    "            #if p1 < n1 and p2 < n2: #2 无限循环啦\n",
    "            #    if s1[p1] == next and s2[p2] == next:\n",
    "            if p1 < n1 and p2 < n2 and s1[p1] == next and s2[p2] == next:\n",
    "                    ok = self.solve(s, (p1+1, p2, p3+1), n) #3 优化，不要写在一起\n",
    "                    if ok:\n",
    "                        return True\n",
    "                    else:\n",
    "                        ok = self.solve(s, (p1, p2+1, p3+1), n)\n",
    "                        if ok:\n",
    "                            return True\n",
    "                        else:\n",
    "                            return False\n",
    "            elif p1 < n1 and s1[p1] == next:\n",
    "                p1 += 1\n",
    "                p3 += 1\n",
    "            elif p2 < n2 and s2[p2] == next:\n",
    "                p2 += 1\n",
    "                p3 += 1\n",
    "            else:\n",
    "                return False\n",
    "        \n",
    "        return True"
   ]
  },
  {
   "cell_type": "code",
   "execution_count": 5,
   "metadata": {
    "collapsed": true
   },
   "outputs": [],
   "source": [
    "s = Solution()"
   ]
  },
  {
   "cell_type": "code",
   "execution_count": 9,
   "metadata": {
    "collapsed": false
   },
   "outputs": [
    {
     "name": "stdout",
     "output_type": "stream",
     "text": [
      "True\n",
      "CPU times: user 6.62 s, sys: 6.85 ms, total: 6.63 s\n",
      "Wall time: 6.63 s\n"
     ]
    }
   ],
   "source": [
    "%%time\n",
    "print s.isInterleave(\"abbbbbbcabbacaacccababaabcccabcacbcaabbbacccaaaaaababbbacbb\",\\\n",
    "                     \"ccaacabbacaccacababbbbabbcacccacccccaabaababacbbacabbbbabc\",\\\n",
    "                     \"cacbabbacbbbabcbaacbbaccacaacaacccabababbbababcccbabcabbaccabcccacccaabbcbcaccccaaaaabaaaaababbbbacbbabacbbacabbbbabc\")"
   ]
  },
  {
   "cell_type": "code",
   "execution_count": 13,
   "metadata": {
    "collapsed": false
   },
   "outputs": [
    {
     "name": "stdout",
     "output_type": "stream",
     "text": [
      "True\n",
      "CPU times: user 125 µs, sys: 54 µs, total: 179 µs\n",
      "Wall time: 142 µs\n"
     ]
    }
   ],
   "source": [
    "%%time\n",
    "#3 优化。不要把两个 solve 放在一起最后再比较 ok1 or ok2. 可以先试一个，不行再换另一个试。\n",
    "print s.isInterleave(\"abbbbbbcabbacaacccababaabcccabcacbcaabbbacccaaaaaababbbacbb\",\\\n",
    "                     \"ccaacabbacaccacababbbbabbcacccacccccaabaababacbbacabbbbabc\",\\\n",
    "                     \"cacbabbacbbbabcbaacbbaccacaacaacccabababbbababcccbabcabbaccabcccacccaabbcbcaccccaaaaabaaaaababbbbacbbabacbbacabbbbabc\")"
   ]
  },
  {
   "cell_type": "code",
   "execution_count": 6,
   "metadata": {
    "collapsed": false
   },
   "outputs": [
    {
     "name": "stdout",
     "output_type": "stream",
     "text": [
      "False\n",
      "CPU times: user 1min 45s, sys: 325 ms, total: 1min 45s\n",
      "Wall time: 1min 46s\n"
     ]
    }
   ],
   "source": [
    "%%time\n",
    "print s.isInterleave(\"bbbbbabbbbabaababaaaabbababbaaabbabbaaabaaaaababbbababbbbbabbbbababbabaabababbbaabababababbbaaababaa\",\\\n",
    "                     \"babaaaabbababbbabbbbaabaabbaabbbbaabaaabaababaaaabaaabbaaabaaaabaabaabbbbbbbbbbbabaaabbababbabbabaab\",\\\n",
    "                     \"babbbabbbaaabbababbbbababaabbabaabaaabbbbabbbaaabbbaaaaabbbbaabbaaabababbaaaaaabababbababaababbababbbababbbbaaaabaabbabbaaaaabbabbaaaabbbaabaaabaababaababbaaabbbbbabbbbaabbabaabbbbabaaabbababbabbabbab\")"
   ]
  },
  {
   "cell_type": "markdown",
   "metadata": {},
   "source": [
    "结果是对的。时间太久了...\n",
    "**为什么时间这么久？**"
   ]
  },
  {
   "cell_type": "markdown",
   "metadata": {},
   "source": [
    "#### 好吧，这是一道DP题。"
   ]
  },
  {
   "cell_type": "markdown",
   "metadata": {},
   "source": [
    "* 5/18/2016\n",
    "* 56 ms [58%]"
   ]
  },
  {
   "cell_type": "code",
   "execution_count": 10,
   "metadata": {
    "collapsed": false
   },
   "outputs": [],
   "source": [
    "class Solution2(object):\n",
    "    def isInterleave(self, s1, s2, s3):\n",
    "        \"\"\"\n",
    "        :type s1: str\n",
    "        :type s2: str\n",
    "        :type s3: str\n",
    "        :rtype: bool\n",
    "        \"\"\"\n",
    "        \n",
    "        m, n, k = len(s1), len(s2), len(s3)\n",
    "\n",
    "        # cornor cases are also important!\n",
    "        if k == 0:\n",
    "            if m == 0 and n == 0:\n",
    "                return True\n",
    "            else:\n",
    "                return False\n",
    "        if k != m + n:\n",
    "            return False\n",
    "        \n",
    "        if m == 0:\n",
    "            return s2 == s3\n",
    "        if n == 0:\n",
    "            return s1 == s3\n",
    "        \n",
    "        # init (m+1) * (n+1) matrix\n",
    "        s = [False] * (m + 1)\n",
    "        for i in range(m + 1):\n",
    "            s[i] = [False] * (n + 1)\n",
    "            \n",
    "        # base case\n",
    "        s[0][0] = True\n",
    "        for i in range(1, m+1):\n",
    "            if s1[:i] == s3[:i]:\n",
    "                s[i][0] = True\n",
    "        for j in range(1, n+1):\n",
    "            if s2[:j] == s3[:j]:\n",
    "                s[0][j] = True\n",
    "        \n",
    "        # inductive\n",
    "        for i in range(1, m+1):\n",
    "            for j in range(1, n+1):\n",
    "                if s[i-1][j] and s3[i+j-1] == s1[i-1]: # be careful with these index\n",
    "                    s[i][j] = True\n",
    "                    continue\n",
    "                if s[i][j-1] and s3[i+j-1] == s2[j-1]:\n",
    "                    s[i][j] = True\n",
    "        \n",
    "        return s[m][n]"
   ]
  },
  {
   "cell_type": "code",
   "execution_count": 11,
   "metadata": {
    "collapsed": true
   },
   "outputs": [],
   "source": [
    "s2 = Solution2()"
   ]
  },
  {
   "cell_type": "code",
   "execution_count": 12,
   "metadata": {
    "collapsed": false
   },
   "outputs": [
    {
     "name": "stdout",
     "output_type": "stream",
     "text": [
      "False\n",
      "CPU times: user 1.89 ms, sys: 969 µs, total: 2.85 ms\n",
      "Wall time: 2.04 ms\n"
     ]
    }
   ],
   "source": [
    "%%time\n",
    "print s2.isInterleave(\"bbbbbabbbbabaababaaaabbababbaaabbabbaaabaaaaababbbababbbbbabbbbababbabaabababbbaabababababbbaaababaa\",\\\n",
    "                     \"babaaaabbababbbabbbbaabaabbaabbbbaabaaabaababaaaabaaabbaaabaaaabaabaabbbbbbbbbbbabaaabbababbabbabaab\",\\\n",
    "                     \"babbbabbbaaabbababbbbababaabbabaabaaabbbbabbbaaabbbaaaaabbbbaabbaaabababbaaaaaabababbababaababbababbbababbbbaaaabaabbabbaaaaabbabbaaaabbbaabaaabaababaababbaaabbbbbabbbbaabbabaabbbbabaaabbababbabbabbab\")"
   ]
  }
 ],
 "metadata": {
  "kernelspec": {
   "display_name": "Python 2",
   "language": "python",
   "name": "python2"
  },
  "language_info": {
   "codemirror_mode": {
    "name": "ipython",
    "version": 2
   },
   "file_extension": ".py",
   "mimetype": "text/x-python",
   "name": "python",
   "nbconvert_exporter": "python",
   "pygments_lexer": "ipython2",
   "version": "2.7.11"
  }
 },
 "nbformat": 4,
 "nbformat_minor": 0
}
