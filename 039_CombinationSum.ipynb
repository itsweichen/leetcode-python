{
 "cells": [
  {
   "cell_type": "markdown",
   "metadata": {},
   "source": [
    "## 39. Combination Sum"
   ]
  },
  {
   "cell_type": "markdown",
   "metadata": {},
   "source": [
    "### DP解法"
   ]
  },
  {
   "cell_type": "code",
   "execution_count": 25,
   "metadata": {
    "collapsed": true
   },
   "outputs": [],
   "source": [
    "class Solution(object):\n",
    "    def __init__(self):\n",
    "        self.matrix = []\n",
    "    \n",
    "    def combinationSum(self, candidates, target):\n",
    "        \"\"\"\n",
    "        :type candidates: List[int]\n",
    "        :type target: int\n",
    "        :rtype: List[List[int]]\n",
    "        \"\"\"\n",
    "        \n",
    "        # 5/25/2016\n",
    "        # 232 ms [17%]\n",
    "        \n",
    "        m = len(candidates)\n",
    "        \n",
    "        if m == 0:\n",
    "            return [[]]\n",
    "        \n",
    "        candidates.sort()\n",
    "        \n",
    "        n = target\n",
    "        self.matrix = [[]] * m\n",
    "        for i in range(m):\n",
    "            self.matrix[i] = [[]] * n\n",
    "        \n",
    "        for j in range(n):\n",
    "            num = j + 1\n",
    "            if num % candidates[0] == 0:\n",
    "                self.matrix[0][j] = [[candidates[0]] * (num / candidates[0])]\n",
    "            else:\n",
    "                self.matrix[0][j] = []\n",
    "\n",
    "        for i in range(1, m):\n",
    "            for j in range(n):\n",
    "                num = j + 1\n",
    "                candidate = candidates[i]\n",
    "                curItem = []\n",
    "                if candidate == num:\n",
    "                    curItem.append([candidate])\n",
    "                elif candidate < num:\n",
    "                    for p in range(i+1):\n",
    "                        if self.matrix[p][num-candidate-1] != []:\n",
    "                            for item in self.matrix[p][num-candidate-1]:\n",
    "                                curItem.append( item + [candidate])\n",
    "                self.matrix[i][j] = curItem\n",
    "\n",
    "        res = []\n",
    "        for j in range(m):\n",
    "            for item in self.matrix[j][n-1]:\n",
    "                res.append(item)\n",
    "        return res"
   ]
  },
  {
   "cell_type": "code",
   "execution_count": 26,
   "metadata": {
    "collapsed": false
   },
   "outputs": [],
   "source": [
    "candidates=[1,3]\n",
    "target=6"
   ]
  },
  {
   "cell_type": "code",
   "execution_count": 27,
   "metadata": {
    "collapsed": false
   },
   "outputs": [
    {
     "data": {
      "text/plain": [
       "[[1, 1, 1, 1, 1, 1], [1, 1, 1, 3], [3, 3]]"
      ]
     },
     "execution_count": 27,
     "metadata": {},
     "output_type": "execute_result"
    }
   ],
   "source": [
    "s = Solution()\n",
    "s.combinationSum(candidates, target)"
   ]
  },
  {
   "cell_type": "code",
   "execution_count": 28,
   "metadata": {
    "collapsed": false
   },
   "outputs": [
    {
     "data": {
      "text/html": [
       "<div>\n",
       "<table border=\"1\" class=\"dataframe\">\n",
       "  <thead>\n",
       "    <tr style=\"text-align: right;\">\n",
       "      <th></th>\n",
       "      <th>1</th>\n",
       "      <th>2</th>\n",
       "      <th>3</th>\n",
       "      <th>4</th>\n",
       "      <th>5</th>\n",
       "      <th>6</th>\n",
       "    </tr>\n",
       "  </thead>\n",
       "  <tbody>\n",
       "    <tr>\n",
       "      <th>1</th>\n",
       "      <td>[[1]]</td>\n",
       "      <td>[[1, 1]]</td>\n",
       "      <td>[[1, 1, 1]]</td>\n",
       "      <td>[[1, 1, 1, 1]]</td>\n",
       "      <td>[[1, 1, 1, 1, 1]]</td>\n",
       "      <td>[[1, 1, 1, 1, 1, 1]]</td>\n",
       "    </tr>\n",
       "    <tr>\n",
       "      <th>3</th>\n",
       "      <td>[]</td>\n",
       "      <td>[]</td>\n",
       "      <td>[[3]]</td>\n",
       "      <td>[[1, 3]]</td>\n",
       "      <td>[[1, 1, 3]]</td>\n",
       "      <td>[[1, 1, 1, 3], [3, 3]]</td>\n",
       "    </tr>\n",
       "  </tbody>\n",
       "</table>\n",
       "</div>"
      ],
      "text/plain": [
       "       1         2            3               4                  5  \\\n",
       "1  [[1]]  [[1, 1]]  [[1, 1, 1]]  [[1, 1, 1, 1]]  [[1, 1, 1, 1, 1]]   \n",
       "3     []        []        [[3]]        [[1, 3]]        [[1, 1, 3]]   \n",
       "\n",
       "                        6  \n",
       "1    [[1, 1, 1, 1, 1, 1]]  \n",
       "3  [[1, 1, 1, 3], [3, 3]]  "
      ]
     },
     "execution_count": 28,
     "metadata": {},
     "output_type": "execute_result"
    }
   ],
   "source": [
    "import pandas as pd\n",
    "pd.DataFrame(data=s.matrix, index=candidates, columns=range(1, target+1))"
   ]
  },
  {
   "cell_type": "markdown",
   "metadata": {},
   "source": [
    "### 回溯解法？"
   ]
  },
  {
   "cell_type": "code",
   "execution_count": null,
   "metadata": {
    "collapsed": true
   },
   "outputs": [],
   "source": []
  }
 ],
 "metadata": {
  "kernelspec": {
   "display_name": "Python 2",
   "language": "python",
   "name": "python2"
  },
  "language_info": {
   "codemirror_mode": {
    "name": "ipython",
    "version": 2
   },
   "file_extension": ".py",
   "mimetype": "text/x-python",
   "name": "python",
   "nbconvert_exporter": "python",
   "pygments_lexer": "ipython2",
   "version": "2.7.11"
  }
 },
 "nbformat": 4,
 "nbformat_minor": 0
}
