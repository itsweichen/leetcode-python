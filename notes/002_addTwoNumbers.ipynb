{
 "cells": [
  {
   "cell_type": "markdown",
   "metadata": {},
   "source": [
    "# 2. Add Two Numbers\n",
    "\n",
    "\n",
    "You are given two linked lists representing two non-negative numbers. The digits are stored in reverse order and each of their nodes contain a single digit. Add the two numbers and return it as a linked list.\n",
    "\n",
    "```\n",
    "Input: (2 -> 4 -> 3) + (5 -> 6 -> 4)\n",
    "Output: 7 -> 0 -> 8\n",
    "```"
   ]
  },
  {
   "cell_type": "markdown",
   "metadata": {},
   "source": [
    "## Solution\n",
    "\n",
    "* Time: $O(n)$\n",
    "\n",
    "Pseudocode:\n",
    "\n",
    "```\n",
    "check cornor cases\n",
    "\n",
    "init head, carry\n",
    "\n",
    "while l1 and l2 is not end:\n",
    "    curVal = l1.val + l2.val\n",
    "    carry = curVal / 10\n",
    "    curVal = curVal % 10\n",
    "    cur.next = ListNode(curVal)\n",
    "\n",
    "traverse whoever is not at the end\n",
    "if there is carry at the end, add a new node\n",
    "return head of new list\n",
    "```"
   ]
  },
  {
   "cell_type": "code",
   "execution_count": 1,
   "metadata": {
    "collapsed": true
   },
   "outputs": [],
   "source": [
    "# Definition for singly-linked list.\n",
    "# class ListNode(object):\n",
    "#     def __init__(self, x):\n",
    "#         self.val = x\n",
    "#         self.next = None\n",
    "\n",
    "class Solution(object):\n",
    "    def addTwoNumbers(self, l1, l2):\n",
    "        \"\"\"\n",
    "        :type l1: ListNode\n",
    "        :type l2: ListNode\n",
    "        :rtype: ListNode\n",
    "        \"\"\"\n",
    "        \n",
    "        if l1 is None: return l2\n",
    "        if l2 is None: return l1\n",
    "        \n",
    "        curVar = l1.val + l2.val\n",
    "        head = ListNode(curVar % 10)\n",
    "        carry = curVar / 10\n",
    "        cur = head\n",
    "        \n",
    "        cur_l1, cur_l2 = l1.next, l2.next\n",
    "        while cur_l1 and cur_l2:\n",
    "            curVar = cur_l1.val + cur_l2.val + carry\n",
    "            cur.next = ListNode(curVar % 10)\n",
    "            carry = curVar / 10\n",
    "            cur = cur.next\n",
    "            cur_l1, cur_l2 = cur_l1.next, cur_l2.next\n",
    "            \n",
    "        \n",
    "        cur_l = cur_l1 if cur_l1 else cur_l2\n",
    "        while cur_l:\n",
    "            curVar = cur_l.val + carry\n",
    "            cur.next = ListNode(curVar % 10)\n",
    "            carry = curVar / 10\n",
    "            cur = cur.next\n",
    "            cur_l = cur_l.next\n",
    "        \n",
    "        if carry != 0:\n",
    "            cur.next = ListNode(carry)\n",
    "        \n",
    "        return head"
   ]
  },
  {
   "cell_type": "markdown",
   "metadata": {},
   "source": [
    "Seems there is a more elegent way (without writing `%10` `/10` third times).\n",
    "\n",
    "* avoid the first by creating a dummy node\n",
    "* avoid the third by the condition for while loop and add two cases inside the loop"
   ]
  },
  {
   "cell_type": "code",
   "execution_count": 2,
   "metadata": {
    "collapsed": true
   },
   "outputs": [],
   "source": [
    "class Solution(object):\n",
    "    def addTwoNumbers(self, l1, l2):\n",
    "        \"\"\"\n",
    "        :type l1: ListNode\n",
    "        :type l2: ListNode\n",
    "        :rtype: ListNode\n",
    "        \"\"\"\n",
    "        \n",
    "        carry = 0\n",
    "        dummy = ListNode(0)\n",
    "        current = dummy\n",
    "        \n",
    "        while l1 or l2:\n",
    "            val = carry\n",
    "            if l1:\n",
    "                val += l1.val\n",
    "                l1 = l1.next\n",
    "            if l2:\n",
    "                val += l2.val\n",
    "                l2 = l2.next\n",
    "            carry = val / 10\n",
    "            val = val % 10\n",
    "            current.next = ListNode(val)\n",
    "            current = current.next\n",
    "        \n",
    "        if carry == 1:\n",
    "            current.next = ListNode(carry)\n",
    "            \n",
    "        return dummy.next"
   ]
  },
  {
   "cell_type": "code",
   "execution_count": null,
   "metadata": {
    "collapsed": true
   },
   "outputs": [],
   "source": []
  }
 ],
 "metadata": {
  "kernelspec": {
   "display_name": "Python 2",
   "language": "python",
   "name": "python2"
  },
  "language_info": {
   "codemirror_mode": {
    "name": "ipython",
    "version": 2
   },
   "file_extension": ".py",
   "mimetype": "text/x-python",
   "name": "python",
   "nbconvert_exporter": "python",
   "pygments_lexer": "ipython2",
   "version": "2.7.11"
  }
 },
 "nbformat": 4,
 "nbformat_minor": 0
}
